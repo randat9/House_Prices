{
 "cells": [
  {
   "cell_type": "markdown",
   "metadata": {},
   "source": [
    "# Functions\n",
    "\n",
    "> All functions should return modified copy of the data. \n",
    "\n",
    "> [Google Docstring](https://sphinxcontrib-napoleon.readthedocs.io/en/latest/example_google.html)\n",
    "\n",
    "```python\n",
    "def function_with_types_in_docstring(param1, param2):\n",
    "    \"\"\"Example function with types documented in the docstring.\n",
    "\n",
    "    `PEP 484`_ type annotations are supported. If attribute, parameter, and\n",
    "    return types are annotated according to `PEP 484`_, they do not need to be\n",
    "    included in the docstring:\n",
    "\n",
    "    Args:\n",
    "        param1 (int): The first parameter.\n",
    "        param2 (str): The second parameter.\n",
    "\n",
    "    Returns:\n",
    "        bool: The return value. True for success, False otherwise.\n",
    "\n",
    "    .. _PEP 484:\n",
    "        https://www.python.org/dev/peps/pep-0484/\n",
    "\n",
    "    \"\"\"\n",
    "```\n",
    "\n",
    "## Functions:\n",
    "\n",
    "> **Keep in mind that the same processing should be run on new data!**\n",
    "\n",
    "- `remove_empty_features(data, threshold)`: columns may not be numerical (*Xarabek*)\n",
    "- `remove_uncorrelated_with_target(data, target_columns: str, threshold: float, method: str)`: assume all columns are numerical (after recoding of categorical and ordinal) (*Miri*)\n",
    "- `remove_correlated_features(data, threshold, method: str)` : all columns are numerical (*Krzysiek*)\n",
    "- `remove_low_variance_features(data, threshold, method: str)` : all columns are numerical (*Miri*)\n",
    "\n",
    "- `encode_categorical(data, column_names: list, method: str)`: returned df should not contain original columns (*Patryk*)\n",
    "- `encode_ordinal(data, columns_names: list, method: str)`: returned df should not contain original columns (*?*)\n",
    "\n",
    "- `remove_outliers(data, method: str, threshold: float)` (*Krzysiek*)\n",
    "\n",
    "## Classes\n",
    "\n",
    "- `impute_nans(data, column: str, value: float, method: str, encode_nan_column: bool)` : needs to remember imputed mean or median to run on new data (*kbdev*)\n",
    "\n"
   ]
  }
 ],
 "metadata": {
  "kernelspec": {
   "display_name": "Python 3",
   "language": "python",
   "name": "python3"
  },
  "language_info": {
   "codemirror_mode": {
    "name": "ipython",
    "version": 3
   },
   "file_extension": ".py",
   "mimetype": "text/x-python",
   "name": "python",
   "nbconvert_exporter": "python",
   "pygments_lexer": "ipython3",
   "version": "3.7.8"
  }
 },
 "nbformat": 4,
 "nbformat_minor": 4
}
